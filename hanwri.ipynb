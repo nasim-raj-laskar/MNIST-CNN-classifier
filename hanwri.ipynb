{
 "cells": [
  {
   "cell_type": "code",
   "execution_count": 1,
   "id": "880e9f00-f29d-460f-9d5c-5d96c14600a7",
   "metadata": {},
   "outputs": [],
   "source": [
    "#importing  Libraries"
   ]
  },
  {
   "cell_type": "code",
   "execution_count": 2,
   "id": "0dc0e392-3c87-42da-9b5b-6d929299aa8b",
   "metadata": {},
   "outputs": [],
   "source": [
    "import numpy as np\n",
    "import pandas as pd"
   ]
  },
  {
   "cell_type": "code",
   "execution_count": null,
   "id": "22c31195-ef28-4169-b74b-183e3f83eb96",
   "metadata": {},
   "outputs": [],
   "source": [
    "pip install tensorflow\n"
   ]
  },
  {
   "cell_type": "code",
   "execution_count": 6,
   "id": "200973de-75e9-4f1d-a6b8-02fdffd2571b",
   "metadata": {},
   "outputs": [],
   "source": [
    "from tensorflow.keras import datasets"
   ]
  },
  {
   "cell_type": "code",
   "execution_count": 10,
   "id": "9574ac7a-82b1-4201-a272-3fe76dc60d29",
   "metadata": {},
   "outputs": [
    {
     "name": "stdout",
     "output_type": "stream",
     "text": [
      "Downloading data from https://storage.googleapis.com/tensorflow/tf-keras-datasets/mnist.npz\n",
      "\u001b[1m11490434/11490434\u001b[0m \u001b[32m━━━━━━━━━━━━━━━━━━━━\u001b[0m\u001b[37m\u001b[0m \u001b[1m3s\u001b[0m 0us/step\n"
     ]
    }
   ],
   "source": [
    "(x_train,y_train),(x_test,y_test)=datasets.mnist.load_data()"
   ]
  },
  {
   "cell_type": "code",
   "execution_count": 14,
   "id": "fbe51d34-b450-480c-ab43-f2d24b23decd",
   "metadata": {},
   "outputs": [
    {
     "data": {
      "text/plain": [
       "array([[[0, 0, 0, ..., 0, 0, 0],\n",
       "        [0, 0, 0, ..., 0, 0, 0],\n",
       "        [0, 0, 0, ..., 0, 0, 0],\n",
       "        ...,\n",
       "        [0, 0, 0, ..., 0, 0, 0],\n",
       "        [0, 0, 0, ..., 0, 0, 0],\n",
       "        [0, 0, 0, ..., 0, 0, 0]],\n",
       "\n",
       "       [[0, 0, 0, ..., 0, 0, 0],\n",
       "        [0, 0, 0, ..., 0, 0, 0],\n",
       "        [0, 0, 0, ..., 0, 0, 0],\n",
       "        ...,\n",
       "        [0, 0, 0, ..., 0, 0, 0],\n",
       "        [0, 0, 0, ..., 0, 0, 0],\n",
       "        [0, 0, 0, ..., 0, 0, 0]],\n",
       "\n",
       "       [[0, 0, 0, ..., 0, 0, 0],\n",
       "        [0, 0, 0, ..., 0, 0, 0],\n",
       "        [0, 0, 0, ..., 0, 0, 0],\n",
       "        ...,\n",
       "        [0, 0, 0, ..., 0, 0, 0],\n",
       "        [0, 0, 0, ..., 0, 0, 0],\n",
       "        [0, 0, 0, ..., 0, 0, 0]],\n",
       "\n",
       "       ...,\n",
       "\n",
       "       [[0, 0, 0, ..., 0, 0, 0],\n",
       "        [0, 0, 0, ..., 0, 0, 0],\n",
       "        [0, 0, 0, ..., 0, 0, 0],\n",
       "        ...,\n",
       "        [0, 0, 0, ..., 0, 0, 0],\n",
       "        [0, 0, 0, ..., 0, 0, 0],\n",
       "        [0, 0, 0, ..., 0, 0, 0]],\n",
       "\n",
       "       [[0, 0, 0, ..., 0, 0, 0],\n",
       "        [0, 0, 0, ..., 0, 0, 0],\n",
       "        [0, 0, 0, ..., 0, 0, 0],\n",
       "        ...,\n",
       "        [0, 0, 0, ..., 0, 0, 0],\n",
       "        [0, 0, 0, ..., 0, 0, 0],\n",
       "        [0, 0, 0, ..., 0, 0, 0]],\n",
       "\n",
       "       [[0, 0, 0, ..., 0, 0, 0],\n",
       "        [0, 0, 0, ..., 0, 0, 0],\n",
       "        [0, 0, 0, ..., 0, 0, 0],\n",
       "        ...,\n",
       "        [0, 0, 0, ..., 0, 0, 0],\n",
       "        [0, 0, 0, ..., 0, 0, 0],\n",
       "        [0, 0, 0, ..., 0, 0, 0]]], dtype=uint8)"
      ]
     },
     "execution_count": 14,
     "metadata": {},
     "output_type": "execute_result"
    }
   ],
   "source": [
    "x_train"
   ]
  },
  {
   "cell_type": "code",
   "execution_count": 16,
   "id": "9b6300ae-b7c9-4ed4-9e3f-55a7c8cffea3",
   "metadata": {},
   "outputs": [
    {
     "data": {
      "text/plain": [
       "array([5, 0, 4, ..., 5, 6, 8], dtype=uint8)"
      ]
     },
     "execution_count": 16,
     "metadata": {},
     "output_type": "execute_result"
    }
   ],
   "source": [
    "y_train"
   ]
  },
  {
   "cell_type": "code",
   "execution_count": 18,
   "id": "842087ce-2b3b-45a0-a62e-0a04497be908",
   "metadata": {},
   "outputs": [
    {
     "data": {
      "text/plain": [
       "(60000, 28, 28)"
      ]
     },
     "execution_count": 18,
     "metadata": {},
     "output_type": "execute_result"
    }
   ],
   "source": [
    "x_train.shape"
   ]
  },
  {
   "cell_type": "code",
   "execution_count": 20,
   "id": "b5b48cab-e719-493b-b55c-c0a0deb262f2",
   "metadata": {},
   "outputs": [
    {
     "data": {
      "text/plain": [
       "(10000, 28, 28)"
      ]
     },
     "execution_count": 20,
     "metadata": {},
     "output_type": "execute_result"
    }
   ],
   "source": [
    "x_test.shape"
   ]
  },
  {
   "cell_type": "code",
   "execution_count": 22,
   "id": "cc982bbd-1e14-4a16-a841-e452ff243cd4",
   "metadata": {},
   "outputs": [],
   "source": [
    "width,height=28,28\n",
    "input_shape=(width,height,1)"
   ]
  },
  {
   "cell_type": "code",
   "execution_count": 24,
   "id": "895fdf2e-7099-4cbe-8716-b5d6d33d1ffe",
   "metadata": {},
   "outputs": [
    {
     "data": {
      "text/plain": [
       "(28, 28, 1)"
      ]
     },
     "execution_count": 24,
     "metadata": {},
     "output_type": "execute_result"
    }
   ],
   "source": [
    "input_shape"
   ]
  },
  {
   "cell_type": "code",
   "execution_count": 32,
   "id": "bd3791d0-856b-4d12-b94c-5243e4e2017f",
   "metadata": {},
   "outputs": [],
   "source": [
    "x_train=x_train.reshape(x_train.shape[0],height,width,1)\n",
    "x_test=x_test.reshape(x_test.shape[0],height,width,1)"
   ]
  },
  {
   "cell_type": "code",
   "execution_count": 34,
   "id": "c115938d-3060-47d9-9359-973a05f7c408",
   "metadata": {},
   "outputs": [
    {
     "data": {
      "text/plain": [
       "(60000, 28, 28, 1)"
      ]
     },
     "execution_count": 34,
     "metadata": {},
     "output_type": "execute_result"
    }
   ],
   "source": [
    "x_train.shape"
   ]
  },
  {
   "cell_type": "code",
   "execution_count": 36,
   "id": "71fa3ac8-05a7-49e5-ac70-ea596966880d",
   "metadata": {},
   "outputs": [
    {
     "data": {
      "text/plain": [
       "(60000,)"
      ]
     },
     "execution_count": 36,
     "metadata": {},
     "output_type": "execute_result"
    }
   ],
   "source": [
    "y_train.shape"
   ]
  },
  {
   "cell_type": "code",
   "execution_count": 38,
   "id": "217ef2ba-dacc-47df-a78a-2360fee56582",
   "metadata": {},
   "outputs": [],
   "source": [
    "from sklearn.model_selection import train_test_split\n",
    "x_train,x_val,y_train,y_val=train_test_split(x_train,y_train,test_size=0.1)"
   ]
  },
  {
   "cell_type": "code",
   "execution_count": 40,
   "id": "c1adbc6f-1a80-4551-8968-7574bba512f5",
   "metadata": {},
   "outputs": [
    {
     "data": {
      "text/plain": [
       "6000"
      ]
     },
     "execution_count": 40,
     "metadata": {},
     "output_type": "execute_result"
    }
   ],
   "source": [
    "len(x_val)"
   ]
  },
  {
   "cell_type": "code",
   "execution_count": 42,
   "id": "70b01b8c-435c-4d58-9396-ad3524015a95",
   "metadata": {},
   "outputs": [],
   "source": [
    "x_train=(x_train-x_train.mean())/x_train.std()\n",
    "x_val=(x_val-x_val.mean())/x_val.std()\n",
    "x_test=(x_test-x_test.mean())/x_test.std()"
   ]
  },
  {
   "cell_type": "code",
   "execution_count": 44,
   "id": "996f6ad8-2185-450d-bd6d-f4c53715d6ad",
   "metadata": {},
   "outputs": [
    {
     "data": {
      "text/plain": [
       "array([[[[-0.42383584],\n",
       "         [-0.42383584],\n",
       "         [-0.42383584],\n",
       "         ...,\n",
       "         [-0.42383584],\n",
       "         [-0.42383584],\n",
       "         [-0.42383584]],\n",
       "\n",
       "        [[-0.42383584],\n",
       "         [-0.42383584],\n",
       "         [-0.42383584],\n",
       "         ...,\n",
       "         [-0.42383584],\n",
       "         [-0.42383584],\n",
       "         [-0.42383584]],\n",
       "\n",
       "        [[-0.42383584],\n",
       "         [-0.42383584],\n",
       "         [-0.42383584],\n",
       "         ...,\n",
       "         [-0.42383584],\n",
       "         [-0.42383584],\n",
       "         [-0.42383584]],\n",
       "\n",
       "        ...,\n",
       "\n",
       "        [[-0.42383584],\n",
       "         [-0.42383584],\n",
       "         [-0.42383584],\n",
       "         ...,\n",
       "         [-0.42383584],\n",
       "         [-0.42383584],\n",
       "         [-0.42383584]],\n",
       "\n",
       "        [[-0.42383584],\n",
       "         [-0.42383584],\n",
       "         [-0.42383584],\n",
       "         ...,\n",
       "         [-0.42383584],\n",
       "         [-0.42383584],\n",
       "         [-0.42383584]],\n",
       "\n",
       "        [[-0.42383584],\n",
       "         [-0.42383584],\n",
       "         [-0.42383584],\n",
       "         ...,\n",
       "         [-0.42383584],\n",
       "         [-0.42383584],\n",
       "         [-0.42383584]]],\n",
       "\n",
       "\n",
       "       [[[-0.42383584],\n",
       "         [-0.42383584],\n",
       "         [-0.42383584],\n",
       "         ...,\n",
       "         [-0.42383584],\n",
       "         [-0.42383584],\n",
       "         [-0.42383584]],\n",
       "\n",
       "        [[-0.42383584],\n",
       "         [-0.42383584],\n",
       "         [-0.42383584],\n",
       "         ...,\n",
       "         [-0.42383584],\n",
       "         [-0.42383584],\n",
       "         [-0.42383584]],\n",
       "\n",
       "        [[-0.42383584],\n",
       "         [-0.42383584],\n",
       "         [-0.42383584],\n",
       "         ...,\n",
       "         [-0.42383584],\n",
       "         [-0.42383584],\n",
       "         [-0.42383584]],\n",
       "\n",
       "        ...,\n",
       "\n",
       "        [[-0.42383584],\n",
       "         [-0.42383584],\n",
       "         [-0.42383584],\n",
       "         ...,\n",
       "         [-0.42383584],\n",
       "         [-0.42383584],\n",
       "         [-0.42383584]],\n",
       "\n",
       "        [[-0.42383584],\n",
       "         [-0.42383584],\n",
       "         [-0.42383584],\n",
       "         ...,\n",
       "         [-0.42383584],\n",
       "         [-0.42383584],\n",
       "         [-0.42383584]],\n",
       "\n",
       "        [[-0.42383584],\n",
       "         [-0.42383584],\n",
       "         [-0.42383584],\n",
       "         ...,\n",
       "         [-0.42383584],\n",
       "         [-0.42383584],\n",
       "         [-0.42383584]]],\n",
       "\n",
       "\n",
       "       [[[-0.42383584],\n",
       "         [-0.42383584],\n",
       "         [-0.42383584],\n",
       "         ...,\n",
       "         [-0.42383584],\n",
       "         [-0.42383584],\n",
       "         [-0.42383584]],\n",
       "\n",
       "        [[-0.42383584],\n",
       "         [-0.42383584],\n",
       "         [-0.42383584],\n",
       "         ...,\n",
       "         [-0.42383584],\n",
       "         [-0.42383584],\n",
       "         [-0.42383584]],\n",
       "\n",
       "        [[-0.42383584],\n",
       "         [-0.42383584],\n",
       "         [-0.42383584],\n",
       "         ...,\n",
       "         [-0.42383584],\n",
       "         [-0.42383584],\n",
       "         [-0.42383584]],\n",
       "\n",
       "        ...,\n",
       "\n",
       "        [[-0.42383584],\n",
       "         [-0.42383584],\n",
       "         [-0.42383584],\n",
       "         ...,\n",
       "         [-0.42383584],\n",
       "         [-0.42383584],\n",
       "         [-0.42383584]],\n",
       "\n",
       "        [[-0.42383584],\n",
       "         [-0.42383584],\n",
       "         [-0.42383584],\n",
       "         ...,\n",
       "         [-0.42383584],\n",
       "         [-0.42383584],\n",
       "         [-0.42383584]],\n",
       "\n",
       "        [[-0.42383584],\n",
       "         [-0.42383584],\n",
       "         [-0.42383584],\n",
       "         ...,\n",
       "         [-0.42383584],\n",
       "         [-0.42383584],\n",
       "         [-0.42383584]]],\n",
       "\n",
       "\n",
       "       ...,\n",
       "\n",
       "\n",
       "       [[[-0.42383584],\n",
       "         [-0.42383584],\n",
       "         [-0.42383584],\n",
       "         ...,\n",
       "         [-0.42383584],\n",
       "         [-0.42383584],\n",
       "         [-0.42383584]],\n",
       "\n",
       "        [[-0.42383584],\n",
       "         [-0.42383584],\n",
       "         [-0.42383584],\n",
       "         ...,\n",
       "         [-0.42383584],\n",
       "         [-0.42383584],\n",
       "         [-0.42383584]],\n",
       "\n",
       "        [[-0.42383584],\n",
       "         [-0.42383584],\n",
       "         [-0.42383584],\n",
       "         ...,\n",
       "         [-0.42383584],\n",
       "         [-0.42383584],\n",
       "         [-0.42383584]],\n",
       "\n",
       "        ...,\n",
       "\n",
       "        [[-0.42383584],\n",
       "         [-0.42383584],\n",
       "         [-0.42383584],\n",
       "         ...,\n",
       "         [-0.42383584],\n",
       "         [-0.42383584],\n",
       "         [-0.42383584]],\n",
       "\n",
       "        [[-0.42383584],\n",
       "         [-0.42383584],\n",
       "         [-0.42383584],\n",
       "         ...,\n",
       "         [-0.42383584],\n",
       "         [-0.42383584],\n",
       "         [-0.42383584]],\n",
       "\n",
       "        [[-0.42383584],\n",
       "         [-0.42383584],\n",
       "         [-0.42383584],\n",
       "         ...,\n",
       "         [-0.42383584],\n",
       "         [-0.42383584],\n",
       "         [-0.42383584]]],\n",
       "\n",
       "\n",
       "       [[[-0.42383584],\n",
       "         [-0.42383584],\n",
       "         [-0.42383584],\n",
       "         ...,\n",
       "         [-0.42383584],\n",
       "         [-0.42383584],\n",
       "         [-0.42383584]],\n",
       "\n",
       "        [[-0.42383584],\n",
       "         [-0.42383584],\n",
       "         [-0.42383584],\n",
       "         ...,\n",
       "         [-0.42383584],\n",
       "         [-0.42383584],\n",
       "         [-0.42383584]],\n",
       "\n",
       "        [[-0.42383584],\n",
       "         [-0.42383584],\n",
       "         [-0.42383584],\n",
       "         ...,\n",
       "         [-0.42383584],\n",
       "         [-0.42383584],\n",
       "         [-0.42383584]],\n",
       "\n",
       "        ...,\n",
       "\n",
       "        [[-0.42383584],\n",
       "         [-0.42383584],\n",
       "         [-0.42383584],\n",
       "         ...,\n",
       "         [-0.42383584],\n",
       "         [-0.42383584],\n",
       "         [-0.42383584]],\n",
       "\n",
       "        [[-0.42383584],\n",
       "         [-0.42383584],\n",
       "         [-0.42383584],\n",
       "         ...,\n",
       "         [-0.42383584],\n",
       "         [-0.42383584],\n",
       "         [-0.42383584]],\n",
       "\n",
       "        [[-0.42383584],\n",
       "         [-0.42383584],\n",
       "         [-0.42383584],\n",
       "         ...,\n",
       "         [-0.42383584],\n",
       "         [-0.42383584],\n",
       "         [-0.42383584]]],\n",
       "\n",
       "\n",
       "       [[[-0.42383584],\n",
       "         [-0.42383584],\n",
       "         [-0.42383584],\n",
       "         ...,\n",
       "         [-0.42383584],\n",
       "         [-0.42383584],\n",
       "         [-0.42383584]],\n",
       "\n",
       "        [[-0.42383584],\n",
       "         [-0.42383584],\n",
       "         [-0.42383584],\n",
       "         ...,\n",
       "         [-0.42383584],\n",
       "         [-0.42383584],\n",
       "         [-0.42383584]],\n",
       "\n",
       "        [[-0.42383584],\n",
       "         [-0.42383584],\n",
       "         [-0.42383584],\n",
       "         ...,\n",
       "         [-0.42383584],\n",
       "         [-0.42383584],\n",
       "         [-0.42383584]],\n",
       "\n",
       "        ...,\n",
       "\n",
       "        [[-0.42383584],\n",
       "         [-0.42383584],\n",
       "         [-0.42383584],\n",
       "         ...,\n",
       "         [-0.42383584],\n",
       "         [-0.42383584],\n",
       "         [-0.42383584]],\n",
       "\n",
       "        [[-0.42383584],\n",
       "         [-0.42383584],\n",
       "         [-0.42383584],\n",
       "         ...,\n",
       "         [-0.42383584],\n",
       "         [-0.42383584],\n",
       "         [-0.42383584]],\n",
       "\n",
       "        [[-0.42383584],\n",
       "         [-0.42383584],\n",
       "         [-0.42383584],\n",
       "         ...,\n",
       "         [-0.42383584],\n",
       "         [-0.42383584],\n",
       "         [-0.42383584]]]])"
      ]
     },
     "execution_count": 44,
     "metadata": {},
     "output_type": "execute_result"
    }
   ],
   "source": [
    "x_train"
   ]
  },
  {
   "cell_type": "code",
   "execution_count": 46,
   "id": "eb23fac8-d9eb-4d23-b3e5-088b05a019c9",
   "metadata": {},
   "outputs": [
    {
     "data": {
      "text/plain": [
       "array([8, 0, 8, ..., 0, 5, 6], dtype=uint8)"
      ]
     },
     "execution_count": 46,
     "metadata": {},
     "output_type": "execute_result"
    }
   ],
   "source": [
    "y_train"
   ]
  },
  {
   "cell_type": "code",
   "execution_count": 48,
   "id": "dbee9511-5f6a-4519-a7f8-8714db09b297",
   "metadata": {},
   "outputs": [],
   "source": [
    "from tensorflow import keras"
   ]
  },
  {
   "cell_type": "code",
   "execution_count": 50,
   "id": "f423c914-d192-455e-8215-0bae4d324025",
   "metadata": {},
   "outputs": [],
   "source": [
    "num_labels=10\n",
    "y_train=keras.utils.to_categorical(y_train)"
   ]
  },
  {
   "cell_type": "code",
   "execution_count": 52,
   "id": "7842ec50-d466-48c9-9bcf-2103ec13692e",
   "metadata": {},
   "outputs": [
    {
     "data": {
      "text/plain": [
       "array([[0., 0., 0., ..., 0., 1., 0.],\n",
       "       [1., 0., 0., ..., 0., 0., 0.],\n",
       "       [0., 0., 0., ..., 0., 1., 0.],\n",
       "       ...,\n",
       "       [1., 0., 0., ..., 0., 0., 0.],\n",
       "       [0., 0., 0., ..., 0., 0., 0.],\n",
       "       [0., 0., 0., ..., 0., 0., 0.]])"
      ]
     },
     "execution_count": 52,
     "metadata": {},
     "output_type": "execute_result"
    }
   ],
   "source": [
    "y_train"
   ]
  },
  {
   "cell_type": "code",
   "execution_count": 56,
   "id": "3b9cea4e-bc7c-406c-84a3-8d16ce812b2c",
   "metadata": {},
   "outputs": [],
   "source": [
    "y_val=keras.utils.to_categorical(y_val)\n",
    "y_test=keras.utils.to_categorical(y_test)"
   ]
  },
  {
   "cell_type": "code",
   "execution_count": 58,
   "id": "c5d7f967-4ae4-4d67-9a66-7851611ca5af",
   "metadata": {},
   "outputs": [],
   "source": [
    "#MODEL"
   ]
  },
  {
   "cell_type": "code",
   "execution_count": 64,
   "id": "c6cbab62-9325-4e1a-a0f1-96200314ec30",
   "metadata": {},
   "outputs": [],
   "source": [
    "from tensorflow.keras.models import Sequential\n",
    "from tensorflow.keras.layers import Dense,Dropout,Flatten,Input,Conv2D,MaxPooling2D,AveragePooling2D"
   ]
  },
  {
   "cell_type": "code",
   "execution_count": 74,
   "id": "fa34574d-0405-4e7b-9d54-32f99926a250",
   "metadata": {},
   "outputs": [],
   "source": [
    "model = Sequential()\n",
    "\n",
    "model.add(Conv2D(6, kernel_size=(5,5), strides=(1,1), activation='tanh', input_shape=(28,28,1)))\n",
    "model.add(AveragePooling2D(pool_size=(2,2), strides=(1,1)))\n",
    "model.add(Conv2D(16, kernel_size=(5,5), strides=(1,1), activation='tanh'))\n",
    "model.add(AveragePooling2D(pool_size=(2,2), strides=(2,2)))\n",
    "model.add(Conv2D(120, kernel_size=(5,5), strides=(1,1), activation='tanh'))\n",
    "model.add(Flatten())\n",
    "model.add(Dense(84, activation='tanh'))\n",
    "model.add(Dense(num_labels, activation='softmax'))"
   ]
  },
  {
   "cell_type": "code",
   "execution_count": 78,
   "id": "64536651-4256-4741-8772-77714691ea6c",
   "metadata": {},
   "outputs": [
    {
     "data": {
      "text/html": [
       "<pre style=\"white-space:pre;overflow-x:auto;line-height:normal;font-family:Menlo,'DejaVu Sans Mono',consolas,'Courier New',monospace\"><span style=\"font-weight: bold\">Model: \"sequential_3\"</span>\n",
       "</pre>\n"
      ],
      "text/plain": [
       "\u001b[1mModel: \"sequential_3\"\u001b[0m\n"
      ]
     },
     "metadata": {},
     "output_type": "display_data"
    },
    {
     "data": {
      "text/html": [
       "<pre style=\"white-space:pre;overflow-x:auto;line-height:normal;font-family:Menlo,'DejaVu Sans Mono',consolas,'Courier New',monospace\">┏━━━━━━━━━━━━━━━━━━━━━━━━━━━━━━━━━┳━━━━━━━━━━━━━━━━━━━━━━━━┳━━━━━━━━━━━━━━━┓\n",
       "┃<span style=\"font-weight: bold\"> Layer (type)                    </span>┃<span style=\"font-weight: bold\"> Output Shape           </span>┃<span style=\"font-weight: bold\">       Param # </span>┃\n",
       "┡━━━━━━━━━━━━━━━━━━━━━━━━━━━━━━━━━╇━━━━━━━━━━━━━━━━━━━━━━━━╇━━━━━━━━━━━━━━━┩\n",
       "│ conv2d_2 (<span style=\"color: #0087ff; text-decoration-color: #0087ff\">Conv2D</span>)               │ (<span style=\"color: #00d7ff; text-decoration-color: #00d7ff\">None</span>, <span style=\"color: #00af00; text-decoration-color: #00af00\">24</span>, <span style=\"color: #00af00; text-decoration-color: #00af00\">24</span>, <span style=\"color: #00af00; text-decoration-color: #00af00\">6</span>)      │           <span style=\"color: #00af00; text-decoration-color: #00af00\">156</span> │\n",
       "├─────────────────────────────────┼────────────────────────┼───────────────┤\n",
       "│ average_pooling2d               │ (<span style=\"color: #00d7ff; text-decoration-color: #00d7ff\">None</span>, <span style=\"color: #00af00; text-decoration-color: #00af00\">23</span>, <span style=\"color: #00af00; text-decoration-color: #00af00\">23</span>, <span style=\"color: #00af00; text-decoration-color: #00af00\">6</span>)      │             <span style=\"color: #00af00; text-decoration-color: #00af00\">0</span> │\n",
       "│ (<span style=\"color: #0087ff; text-decoration-color: #0087ff\">AveragePooling2D</span>)              │                        │               │\n",
       "├─────────────────────────────────┼────────────────────────┼───────────────┤\n",
       "│ conv2d_3 (<span style=\"color: #0087ff; text-decoration-color: #0087ff\">Conv2D</span>)               │ (<span style=\"color: #00d7ff; text-decoration-color: #00d7ff\">None</span>, <span style=\"color: #00af00; text-decoration-color: #00af00\">19</span>, <span style=\"color: #00af00; text-decoration-color: #00af00\">19</span>, <span style=\"color: #00af00; text-decoration-color: #00af00\">16</span>)     │         <span style=\"color: #00af00; text-decoration-color: #00af00\">2,416</span> │\n",
       "├─────────────────────────────────┼────────────────────────┼───────────────┤\n",
       "│ average_pooling2d_1             │ (<span style=\"color: #00d7ff; text-decoration-color: #00d7ff\">None</span>, <span style=\"color: #00af00; text-decoration-color: #00af00\">9</span>, <span style=\"color: #00af00; text-decoration-color: #00af00\">9</span>, <span style=\"color: #00af00; text-decoration-color: #00af00\">16</span>)       │             <span style=\"color: #00af00; text-decoration-color: #00af00\">0</span> │\n",
       "│ (<span style=\"color: #0087ff; text-decoration-color: #0087ff\">AveragePooling2D</span>)              │                        │               │\n",
       "├─────────────────────────────────┼────────────────────────┼───────────────┤\n",
       "│ conv2d_4 (<span style=\"color: #0087ff; text-decoration-color: #0087ff\">Conv2D</span>)               │ (<span style=\"color: #00d7ff; text-decoration-color: #00d7ff\">None</span>, <span style=\"color: #00af00; text-decoration-color: #00af00\">5</span>, <span style=\"color: #00af00; text-decoration-color: #00af00\">5</span>, <span style=\"color: #00af00; text-decoration-color: #00af00\">120</span>)      │        <span style=\"color: #00af00; text-decoration-color: #00af00\">48,120</span> │\n",
       "├─────────────────────────────────┼────────────────────────┼───────────────┤\n",
       "│ flatten (<span style=\"color: #0087ff; text-decoration-color: #0087ff\">Flatten</span>)               │ (<span style=\"color: #00d7ff; text-decoration-color: #00d7ff\">None</span>, <span style=\"color: #00af00; text-decoration-color: #00af00\">3000</span>)           │             <span style=\"color: #00af00; text-decoration-color: #00af00\">0</span> │\n",
       "├─────────────────────────────────┼────────────────────────┼───────────────┤\n",
       "│ dense (<span style=\"color: #0087ff; text-decoration-color: #0087ff\">Dense</span>)                   │ (<span style=\"color: #00d7ff; text-decoration-color: #00d7ff\">None</span>, <span style=\"color: #00af00; text-decoration-color: #00af00\">84</span>)             │       <span style=\"color: #00af00; text-decoration-color: #00af00\">252,084</span> │\n",
       "├─────────────────────────────────┼────────────────────────┼───────────────┤\n",
       "│ dense_1 (<span style=\"color: #0087ff; text-decoration-color: #0087ff\">Dense</span>)                 │ (<span style=\"color: #00d7ff; text-decoration-color: #00d7ff\">None</span>, <span style=\"color: #00af00; text-decoration-color: #00af00\">10</span>)             │           <span style=\"color: #00af00; text-decoration-color: #00af00\">850</span> │\n",
       "└─────────────────────────────────┴────────────────────────┴───────────────┘\n",
       "</pre>\n"
      ],
      "text/plain": [
       "┏━━━━━━━━━━━━━━━━━━━━━━━━━━━━━━━━━┳━━━━━━━━━━━━━━━━━━━━━━━━┳━━━━━━━━━━━━━━━┓\n",
       "┃\u001b[1m \u001b[0m\u001b[1mLayer (type)                   \u001b[0m\u001b[1m \u001b[0m┃\u001b[1m \u001b[0m\u001b[1mOutput Shape          \u001b[0m\u001b[1m \u001b[0m┃\u001b[1m \u001b[0m\u001b[1m      Param #\u001b[0m\u001b[1m \u001b[0m┃\n",
       "┡━━━━━━━━━━━━━━━━━━━━━━━━━━━━━━━━━╇━━━━━━━━━━━━━━━━━━━━━━━━╇━━━━━━━━━━━━━━━┩\n",
       "│ conv2d_2 (\u001b[38;5;33mConv2D\u001b[0m)               │ (\u001b[38;5;45mNone\u001b[0m, \u001b[38;5;34m24\u001b[0m, \u001b[38;5;34m24\u001b[0m, \u001b[38;5;34m6\u001b[0m)      │           \u001b[38;5;34m156\u001b[0m │\n",
       "├─────────────────────────────────┼────────────────────────┼───────────────┤\n",
       "│ average_pooling2d               │ (\u001b[38;5;45mNone\u001b[0m, \u001b[38;5;34m23\u001b[0m, \u001b[38;5;34m23\u001b[0m, \u001b[38;5;34m6\u001b[0m)      │             \u001b[38;5;34m0\u001b[0m │\n",
       "│ (\u001b[38;5;33mAveragePooling2D\u001b[0m)              │                        │               │\n",
       "├─────────────────────────────────┼────────────────────────┼───────────────┤\n",
       "│ conv2d_3 (\u001b[38;5;33mConv2D\u001b[0m)               │ (\u001b[38;5;45mNone\u001b[0m, \u001b[38;5;34m19\u001b[0m, \u001b[38;5;34m19\u001b[0m, \u001b[38;5;34m16\u001b[0m)     │         \u001b[38;5;34m2,416\u001b[0m │\n",
       "├─────────────────────────────────┼────────────────────────┼───────────────┤\n",
       "│ average_pooling2d_1             │ (\u001b[38;5;45mNone\u001b[0m, \u001b[38;5;34m9\u001b[0m, \u001b[38;5;34m9\u001b[0m, \u001b[38;5;34m16\u001b[0m)       │             \u001b[38;5;34m0\u001b[0m │\n",
       "│ (\u001b[38;5;33mAveragePooling2D\u001b[0m)              │                        │               │\n",
       "├─────────────────────────────────┼────────────────────────┼───────────────┤\n",
       "│ conv2d_4 (\u001b[38;5;33mConv2D\u001b[0m)               │ (\u001b[38;5;45mNone\u001b[0m, \u001b[38;5;34m5\u001b[0m, \u001b[38;5;34m5\u001b[0m, \u001b[38;5;34m120\u001b[0m)      │        \u001b[38;5;34m48,120\u001b[0m │\n",
       "├─────────────────────────────────┼────────────────────────┼───────────────┤\n",
       "│ flatten (\u001b[38;5;33mFlatten\u001b[0m)               │ (\u001b[38;5;45mNone\u001b[0m, \u001b[38;5;34m3000\u001b[0m)           │             \u001b[38;5;34m0\u001b[0m │\n",
       "├─────────────────────────────────┼────────────────────────┼───────────────┤\n",
       "│ dense (\u001b[38;5;33mDense\u001b[0m)                   │ (\u001b[38;5;45mNone\u001b[0m, \u001b[38;5;34m84\u001b[0m)             │       \u001b[38;5;34m252,084\u001b[0m │\n",
       "├─────────────────────────────────┼────────────────────────┼───────────────┤\n",
       "│ dense_1 (\u001b[38;5;33mDense\u001b[0m)                 │ (\u001b[38;5;45mNone\u001b[0m, \u001b[38;5;34m10\u001b[0m)             │           \u001b[38;5;34m850\u001b[0m │\n",
       "└─────────────────────────────────┴────────────────────────┴───────────────┘\n"
      ]
     },
     "metadata": {},
     "output_type": "display_data"
    },
    {
     "data": {
      "text/html": [
       "<pre style=\"white-space:pre;overflow-x:auto;line-height:normal;font-family:Menlo,'DejaVu Sans Mono',consolas,'Courier New',monospace\"><span style=\"font-weight: bold\"> Total params: </span><span style=\"color: #00af00; text-decoration-color: #00af00\">303,626</span> (1.16 MB)\n",
       "</pre>\n"
      ],
      "text/plain": [
       "\u001b[1m Total params: \u001b[0m\u001b[38;5;34m303,626\u001b[0m (1.16 MB)\n"
      ]
     },
     "metadata": {},
     "output_type": "display_data"
    },
    {
     "data": {
      "text/html": [
       "<pre style=\"white-space:pre;overflow-x:auto;line-height:normal;font-family:Menlo,'DejaVu Sans Mono',consolas,'Courier New',monospace\"><span style=\"font-weight: bold\"> Trainable params: </span><span style=\"color: #00af00; text-decoration-color: #00af00\">303,626</span> (1.16 MB)\n",
       "</pre>\n"
      ],
      "text/plain": [
       "\u001b[1m Trainable params: \u001b[0m\u001b[38;5;34m303,626\u001b[0m (1.16 MB)\n"
      ]
     },
     "metadata": {},
     "output_type": "display_data"
    },
    {
     "data": {
      "text/html": [
       "<pre style=\"white-space:pre;overflow-x:auto;line-height:normal;font-family:Menlo,'DejaVu Sans Mono',consolas,'Courier New',monospace\"><span style=\"font-weight: bold\"> Non-trainable params: </span><span style=\"color: #00af00; text-decoration-color: #00af00\">0</span> (0.00 B)\n",
       "</pre>\n"
      ],
      "text/plain": [
       "\u001b[1m Non-trainable params: \u001b[0m\u001b[38;5;34m0\u001b[0m (0.00 B)\n"
      ]
     },
     "metadata": {},
     "output_type": "display_data"
    }
   ],
   "source": [
    "model.summary()"
   ]
  },
  {
   "cell_type": "code",
   "execution_count": 82,
   "id": "46dd3a96-015d-4f06-95de-0b1fe52a3170",
   "metadata": {},
   "outputs": [],
   "source": [
    "model.compile(loss=keras.losses.categorical_crossentropy,optimizer='adam',metrics=['accuracy'])"
   ]
  },
  {
   "cell_type": "code",
   "execution_count": 84,
   "id": "6508033b-e139-48d2-a801-b8a00658e956",
   "metadata": {},
   "outputs": [
    {
     "name": "stdout",
     "output_type": "stream",
     "text": [
      "Epoch 1/5\n",
      "\u001b[1m1688/1688\u001b[0m \u001b[32m━━━━━━━━━━━━━━━━━━━━\u001b[0m\u001b[37m\u001b[0m \u001b[1m13s\u001b[0m 7ms/step - accuracy: 0.9052 - loss: 0.3210 - val_accuracy: 0.9628 - val_loss: 0.1178\n",
      "Epoch 2/5\n",
      "\u001b[1m1688/1688\u001b[0m \u001b[32m━━━━━━━━━━━━━━━━━━━━\u001b[0m\u001b[37m\u001b[0m \u001b[1m11s\u001b[0m 6ms/step - accuracy: 0.9698 - loss: 0.1007 - val_accuracy: 0.9760 - val_loss: 0.0840\n",
      "Epoch 3/5\n",
      "\u001b[1m1688/1688\u001b[0m \u001b[32m━━━━━━━━━━━━━━━━━━━━\u001b[0m\u001b[37m\u001b[0m \u001b[1m13s\u001b[0m 8ms/step - accuracy: 0.9763 - loss: 0.0790 - val_accuracy: 0.9727 - val_loss: 0.0890\n",
      "Epoch 4/5\n",
      "\u001b[1m1688/1688\u001b[0m \u001b[32m━━━━━━━━━━━━━━━━━━━━\u001b[0m\u001b[37m\u001b[0m \u001b[1m13s\u001b[0m 8ms/step - accuracy: 0.9794 - loss: 0.0690 - val_accuracy: 0.9783 - val_loss: 0.0722\n",
      "Epoch 5/5\n",
      "\u001b[1m1688/1688\u001b[0m \u001b[32m━━━━━━━━━━━━━━━━━━━━\u001b[0m\u001b[37m\u001b[0m \u001b[1m13s\u001b[0m 8ms/step - accuracy: 0.9811 - loss: 0.0647 - val_accuracy: 0.9803 - val_loss: 0.0695\n"
     ]
    }
   ],
   "source": [
    "history=model.fit(x_train,y_train,batch_size=32,epochs=5,verbose=1,validation_data=(x_val,y_val))"
   ]
  },
  {
   "cell_type": "code",
   "execution_count": 86,
   "id": "47010884-040d-4aef-a216-6a6ba9bd5f28",
   "metadata": {},
   "outputs": [
    {
     "name": "stdout",
     "output_type": "stream",
     "text": [
      "\u001b[1m313/313\u001b[0m \u001b[32m━━━━━━━━━━━━━━━━━━━━\u001b[0m\u001b[37m\u001b[0m \u001b[1m1s\u001b[0m 2ms/step - accuracy: 0.9798 - loss: 0.0667\n"
     ]
    }
   ],
   "source": [
    "score=model.evaluate(x_test,y_test,verbose=1)"
   ]
  },
  {
   "cell_type": "code",
   "execution_count": 88,
   "id": "d4f5149a-52c1-4463-8380-194fde170fd5",
   "metadata": {},
   "outputs": [
    {
     "data": {
      "text/plain": [
       "[0.053238075226545334, 0.9840999841690063]"
      ]
     },
     "execution_count": 88,
     "metadata": {},
     "output_type": "execute_result"
    }
   ],
   "source": [
    "score"
   ]
  },
  {
   "cell_type": "code",
   "execution_count": null,
   "id": "205d1318-9243-4ef8-9480-f84873045591",
   "metadata": {},
   "outputs": [],
   "source": []
  }
 ],
 "metadata": {
  "kernelspec": {
   "display_name": "Python 3 (ipykernel)",
   "language": "python",
   "name": "python3"
  },
  "language_info": {
   "codemirror_mode": {
    "name": "ipython",
    "version": 3
   },
   "file_extension": ".py",
   "mimetype": "text/x-python",
   "name": "python",
   "nbconvert_exporter": "python",
   "pygments_lexer": "ipython3",
   "version": "3.12.4"
  }
 },
 "nbformat": 4,
 "nbformat_minor": 5
}
